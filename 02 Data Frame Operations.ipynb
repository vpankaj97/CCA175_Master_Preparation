{
 "cells": [
  {
   "cell_type": "code",
   "execution_count": 2,
   "metadata": {},
   "outputs": [
    {
     "output_type": "error",
     "ename": "Error",
     "evalue": "Jupyter cannot be started. Error attempting to locate jupyter: 'Kernelspec' module not installed in the selected interpreter (D:\\Documents\\pySpark\\miniCONDA\\envs\\pySpark\\python.exe).\n Please re-install or update 'jupyter'.",
     "traceback": [
      "Error: Jupyter cannot be started. Error attempting to locate jupyter: 'Kernelspec' module not installed in the selected interpreter (D:\\Documents\\pySpark\\miniCONDA\\envs\\pySpark\\python.exe).",
      "Please re-install or update 'jupyter'.",
      "at b.startServer (c:\\Users\\Verma\\.vscode-insiders\\extensions\\ms-python.python-2020.6.91350\\out\\client\\extension.js:48:288041)",
      "at processTicksAndRejections (internal/process/task_queues.js:93:5)",
      "at async b.createServer (c:\\Users\\Verma\\.vscode-insiders\\extensions\\ms-python.python-2020.6.91350\\out\\client\\extension.js:48:287483)",
      "at async connect (c:\\Users\\Verma\\.vscode-insiders\\extensions\\ms-python.python-2020.6.91350\\out\\client\\extension.js:48:413515)",
      "at async P.ensureConnectionAndNotebookImpl (c:\\Users\\Verma\\.vscode-insiders\\extensions\\ms-python.python-2020.6.91350\\out\\client\\extension.js:24:434959)",
      "at async P.ensureConnectionAndNotebook (c:\\Users\\Verma\\.vscode-insiders\\extensions\\ms-python.python-2020.6.91350\\out\\client\\extension.js:24:434637)",
      "at async P.clearResult (c:\\Users\\Verma\\.vscode-insiders\\extensions\\ms-python.python-2020.6.91350\\out\\client\\extension.js:24:430563)",
      "at async P.reexecuteCell (c:\\Users\\Verma\\.vscode-insiders\\extensions\\ms-python.python-2020.6.91350\\out\\client\\extension.js:24:416935)",
      "at async P.reexecuteCells (c:\\Users\\Verma\\.vscode-insiders\\extensions\\ms-python.python-2020.6.91350\\out\\client\\extension.js:24:413738)"
     ]
    }
   ],
   "source": [
    "import findspark as fs\n",
    "fs.init()\n",
    "from pyspark.sql import SparkSession\n",
    "from pyspark.sql import SQLContext\n",
    "from pyspark.sql.functions import isnan, when, count, col, translate, lower\n",
    "from pyspark.sql.types import IntegerType, FloatType\n",
    "from pyspark.sql import functions as F\n",
    "spark=SparkSession.builder.appName('GoogleData').master('local').getOrCreate()\n",
    "sc=spark.sparkContext\n",
    "sql=SQLContext(sc)"
   ]
  },
  {
   "cell_type": "code",
   "execution_count": 3,
   "metadata": {},
   "outputs": [
    {
     "data": {
      "text/html": [
       "\n",
       "            <div>\n",
       "                <p><b>SparkSession - in-memory</b></p>\n",
       "                \n",
       "        <div>\n",
       "            <p><b>SparkContext</b></p>\n",
       "\n",
       "            <p><a href=\"http://DESKTOP-1MLG7LO.mshome.net:4040\">Spark UI</a></p>\n",
       "\n",
       "            <dl>\n",
       "              <dt>Version</dt>\n",
       "                <dd><code>v3.0.0</code></dd>\n",
       "              <dt>Master</dt>\n",
       "                <dd><code>local</code></dd>\n",
       "              <dt>AppName</dt>\n",
       "                <dd><code>GoogleData</code></dd>\n",
       "            </dl>\n",
       "        </div>\n",
       "        \n",
       "            </div>\n",
       "        "
      ],
      "text/plain": [
       "<pyspark.sql.session.SparkSession at 0x13d10ee7d68>"
      ]
     },
     "execution_count": 3,
     "metadata": {},
     "output_type": "execute_result"
    }
   ],
   "source": [
    "spark"
   ]
  },
  {
   "cell_type": "code",
   "execution_count": 4,
   "metadata": {},
   "outputs": [],
   "source": [
    "orders = spark.read.csv('retail_db//orders.csv',header=True,inferSchema=True)\n",
    "order_items = spark.read.csv('retail_db//order_items.csv',header=True,inferSchema=True)\n",
    "customers = spark.read.csv('retail_db//customers.csv',header=True,inferSchema=True)\n",
    "products = spark.read.csv('retail_db//products.csv',header=True,inferSchema=True)"
   ]
  },
  {
   "cell_type": "markdown",
   "metadata": {},
   "source": [
    "# select"
   ]
  },
  {
   "cell_type": "code",
   "execution_count": 4,
   "metadata": {
    "tags": []
   },
   "outputs": [
    {
     "name": "stdout",
     "output_type": "stream",
     "text": [
      "+---------------+---------------+---------------+\n",
      "|   order_status|   order_status|   order_status|\n",
      "+---------------+---------------+---------------+\n",
      "|         CLOSED|         CLOSED|         CLOSED|\n",
      "|PENDING_PAYMENT|PENDING_PAYMENT|PENDING_PAYMENT|\n",
      "|       COMPLETE|       COMPLETE|       COMPLETE|\n",
      "|         CLOSED|         CLOSED|         CLOSED|\n",
      "|       COMPLETE|       COMPLETE|       COMPLETE|\n",
      "|       COMPLETE|       COMPLETE|       COMPLETE|\n",
      "|       COMPLETE|       COMPLETE|       COMPLETE|\n",
      "|     PROCESSING|     PROCESSING|     PROCESSING|\n",
      "|PENDING_PAYMENT|PENDING_PAYMENT|PENDING_PAYMENT|\n",
      "|PENDING_PAYMENT|PENDING_PAYMENT|PENDING_PAYMENT|\n",
      "| PAYMENT_REVIEW| PAYMENT_REVIEW| PAYMENT_REVIEW|\n",
      "|         CLOSED|         CLOSED|         CLOSED|\n",
      "|PENDING_PAYMENT|PENDING_PAYMENT|PENDING_PAYMENT|\n",
      "|     PROCESSING|     PROCESSING|     PROCESSING|\n",
      "|       COMPLETE|       COMPLETE|       COMPLETE|\n",
      "|PENDING_PAYMENT|PENDING_PAYMENT|PENDING_PAYMENT|\n",
      "|       COMPLETE|       COMPLETE|       COMPLETE|\n",
      "|         CLOSED|         CLOSED|         CLOSED|\n",
      "|PENDING_PAYMENT|PENDING_PAYMENT|PENDING_PAYMENT|\n",
      "|     PROCESSING|     PROCESSING|     PROCESSING|\n",
      "+---------------+---------------+---------------+\n",
      "only showing top 20 rows\n",
      "\n"
     ]
    }
   ],
   "source": [
    "orders.select(orders.order_status,'order_status',col('order_status')).show()"
   ]
  },
  {
   "cell_type": "markdown",
   "metadata": {},
   "source": [
    "#### But while using functions it is applicable to specify the full notation, i.e., dataframe.column_name or using col as below"
   ]
  },
  {
   "cell_type": "code",
   "execution_count": 11,
   "metadata": {
    "tags": []
   },
   "outputs": [
    {
     "name": "stdout",
     "output_type": "stream",
     "text": [
      "+-------------------+-------------------+\n",
      "|lower(order_status)|lower(order_status)|\n",
      "+-------------------+-------------------+\n",
      "|             closed|             closed|\n",
      "|    pending_payment|    pending_payment|\n",
      "|           complete|           complete|\n",
      "|             closed|             closed|\n",
      "|           complete|           complete|\n",
      "|           complete|           complete|\n",
      "|           complete|           complete|\n",
      "|         processing|         processing|\n",
      "|    pending_payment|    pending_payment|\n",
      "|    pending_payment|    pending_payment|\n",
      "|     payment_review|     payment_review|\n",
      "|             closed|             closed|\n",
      "|    pending_payment|    pending_payment|\n",
      "|         processing|         processing|\n",
      "|           complete|           complete|\n",
      "|    pending_payment|    pending_payment|\n",
      "|           complete|           complete|\n",
      "|             closed|             closed|\n",
      "|    pending_payment|    pending_payment|\n",
      "|         processing|         processing|\n",
      "+-------------------+-------------------+\n",
      "only showing top 20 rows\n",
      "\n"
     ]
    }
   ],
   "source": [
    "orders.select(lower(orders.order_status),lower(col('order_status'))).show()\n",
    "#Note: orders.select(lower('order_status')).show() will not work"
   ]
  },
  {
   "cell_type": "markdown",
   "metadata": {},
   "source": [
    "# alias\n",
    "#### alias should be enclosed within select "
   ]
  },
  {
   "cell_type": "markdown",
   "metadata": {},
   "source": [
    "### Note : Please do not give alias the same name as built-in functions "
   ]
  },
  {
   "cell_type": "code",
   "execution_count": 12,
   "metadata": {
    "tags": []
   },
   "outputs": [
    {
     "name": "stdout",
     "output_type": "stream",
     "text": [
      "+---------------+\n",
      "|   Status_alias|\n",
      "+---------------+\n",
      "|         CLOSED|\n",
      "|PENDING_PAYMENT|\n",
      "|       COMPLETE|\n",
      "|         CLOSED|\n",
      "|       COMPLETE|\n",
      "|       COMPLETE|\n",
      "|       COMPLETE|\n",
      "|     PROCESSING|\n",
      "|PENDING_PAYMENT|\n",
      "|PENDING_PAYMENT|\n",
      "| PAYMENT_REVIEW|\n",
      "|         CLOSED|\n",
      "|PENDING_PAYMENT|\n",
      "|     PROCESSING|\n",
      "|       COMPLETE|\n",
      "|PENDING_PAYMENT|\n",
      "|       COMPLETE|\n",
      "|         CLOSED|\n",
      "|PENDING_PAYMENT|\n",
      "|     PROCESSING|\n",
      "+---------------+\n",
      "only showing top 20 rows\n",
      "\n"
     ]
    }
   ],
   "source": [
    "orders.select(orders.order_status.alias('Status_alias')).show()\n",
    "#Note: orders.select('order_status').alias('Status_alias').show()  will not work"
   ]
  },
  {
   "cell_type": "code",
   "execution_count": 14,
   "metadata": {
    "tags": []
   },
   "outputs": [
    {
     "name": "stdout",
     "output_type": "stream",
     "text": [
      "+---------------+\n",
      "|   Status_alias|\n",
      "+---------------+\n",
      "|PENDING_PAYMENT|\n",
      "|       COMPLETE|\n",
      "|        ON_HOLD|\n",
      "| PAYMENT_REVIEW|\n",
      "|     PROCESSING|\n",
      "|         CLOSED|\n",
      "|SUSPECTED_FRAUD|\n",
      "|        PENDING|\n",
      "|       CANCELED|\n",
      "+---------------+\n",
      "\n"
     ]
    }
   ],
   "source": [
    "orders.select(col('order_status').alias('Status_alias')).distinct().show()\n",
    "#Note: orders.select('order_status').distinct().alias('Status_alias').show() will not work"
   ]
  },
  {
   "cell_type": "markdown",
   "metadata": {},
   "source": [
    "# withcolumn\n",
    "#### If already existing column name is given, then the new column expression will replace the existing column. (It will not add another column)\n"
   ]
  },
  {
   "cell_type": "code",
   "execution_count": 25,
   "metadata": {},
   "outputs": [],
   "source": [
    "orders = orders. \\\n",
    "withColumn('order_id',orders.order_id.cast('bigint')). \\\n",
    "withColumn('order_date',orders.order_date.cast('date')). \\\n",
    "withColumn('order_customer_id',orders.order_customer_id.cast('bigint')). \\\n",
    "withColumn('order_status',orders.order_status.cast('string')) \n"
   ]
  },
  {
   "cell_type": "code",
   "execution_count": 24,
   "metadata": {
    "tags": []
   },
   "outputs": [
    {
     "name": "stdout",
     "output_type": "stream",
     "text": [
      "root\n",
      " |-- order_id: integer (nullable = true)\n",
      " |-- order_date: date (nullable = true)\n",
      " |-- order_customer_id: long (nullable = true)\n",
      " |-- order_status: string (nullable = true)\n",
      "\n"
     ]
    }
   ],
   "source": [
    "orders.printSchema()"
   ]
  },
  {
   "cell_type": "markdown",
   "metadata": {},
   "source": [
    "#### Given below are the cast notations from pyspark.sql.types"
   ]
  },
  {
   "cell_type": "code",
   "execution_count": null,
   "metadata": {},
   "outputs": [],
   "source": [
    "BinaryType: binary\n",
    "BooleanType: boolean\n",
    "ByteType: tinyint\n",
    "DateType: date\n",
    "DecimalType: decimal(10,0)\n",
    "DoubleType: double\n",
    "FloatType: float\n",
    "IntegerType: int\n",
    "LongType: bigint\n",
    "ShortType: smallint\n",
    "StringType: string\n",
    "TimestampType: timestamp"
   ]
  },
  {
   "cell_type": "markdown",
   "metadata": {},
   "source": [
    "# selectExpr"
   ]
  },
  {
   "cell_type": "markdown",
   "metadata": {},
   "source": [
    "#### SQL like expressions can be used for evaluation"
   ]
  },
  {
   "cell_type": "code",
   "execution_count": 29,
   "metadata": {
    "tags": []
   },
   "outputs": [
    {
     "name": "stdout",
     "output_type": "stream",
     "text": [
      "+--------------------+\n",
      "|            textdata|\n",
      "+--------------------+\n",
      "|1,2013-07-25,1159...|\n",
      "+--------------------+\n",
      "only showing top 1 row\n",
      "\n"
     ]
    }
   ],
   "source": [
    "orders.selectExpr('order_id||\",\"||order_date||\",\"||order_customer_id||\",\"||order_status||\",\" as textdata ').show(1)"
   ]
  },
  {
   "cell_type": "markdown",
   "metadata": {},
   "source": [
    "# case\n",
    "#### CASE as in SQL can be used"
   ]
  },
  {
   "cell_type": "code",
   "execution_count": 30,
   "metadata": {
    "tags": []
   },
   "outputs": [
    {
     "name": "stdout",
     "output_type": "stream",
     "text": [
      "+--------------+\n",
      "|Derived_status|\n",
      "+--------------+\n",
      "|    COMPLETELD|\n",
      "|          NONE|\n",
      "|    COMPLETELD|\n",
      "|    COMPLETELD|\n",
      "|    COMPLETELD|\n",
      "|    COMPLETELD|\n",
      "|    COMPLETELD|\n",
      "|          NONE|\n",
      "|          NONE|\n",
      "|          NONE|\n",
      "|          NONE|\n",
      "|    COMPLETELD|\n",
      "|          NONE|\n",
      "|          NONE|\n",
      "|    COMPLETELD|\n",
      "|          NONE|\n",
      "|    COMPLETELD|\n",
      "|    COMPLETELD|\n",
      "|          NONE|\n",
      "|          NONE|\n",
      "+--------------+\n",
      "only showing top 20 rows\n",
      "\n"
     ]
    }
   ],
   "source": [
    "orders.selectExpr('CASE WHEN order_status in (\"COMPLETE\",\"CLOSED\") THEN \"COMPLETELD\" WHEN order_status = \"CANCELED\" THEN \"CANCEL\" ELSE \"NONE\" END Derived_status').show()"
   ]
  },
  {
   "cell_type": "markdown",
   "metadata": {},
   "source": [
    "# when\n",
    "#### Dataframe equivalent of case "
   ]
  },
  {
   "cell_type": "code",
   "execution_count": 32,
   "metadata": {
    "tags": []
   },
   "outputs": [
    {
     "name": "stdout",
     "output_type": "stream",
     "text": [
      "+--------+----------+-----------------+---------------+--------------+\n",
      "|order_id|order_date|order_customer_id|   order_status|Derived_Status|\n",
      "+--------+----------+-----------------+---------------+--------------+\n",
      "|       1|2013-07-25|            11599|         CLOSED|          OVER|\n",
      "|       2|2013-07-25|              256|PENDING_PAYMENT|       PENDING|\n",
      "|       3|2013-07-25|            12111|       COMPLETE|          NONE|\n",
      "|       4|2013-07-25|             8827|         CLOSED|          OVER|\n",
      "|       5|2013-07-25|            11318|       COMPLETE|          NONE|\n",
      "|       6|2013-07-25|             7130|       COMPLETE|          NONE|\n",
      "|       7|2013-07-25|             4530|       COMPLETE|          NONE|\n",
      "|       8|2013-07-25|             2911|     PROCESSING|          NONE|\n",
      "|       9|2013-07-25|             5657|PENDING_PAYMENT|       PENDING|\n",
      "|      10|2013-07-25|             5648|PENDING_PAYMENT|       PENDING|\n",
      "|      11|2013-07-25|              918| PAYMENT_REVIEW|          NONE|\n",
      "|      12|2013-07-25|             1837|         CLOSED|          OVER|\n",
      "|      13|2013-07-25|             9149|PENDING_PAYMENT|       PENDING|\n",
      "|      14|2013-07-25|             9842|     PROCESSING|          NONE|\n",
      "|      15|2013-07-25|             2568|       COMPLETE|          NONE|\n",
      "|      16|2013-07-25|             7276|PENDING_PAYMENT|       PENDING|\n",
      "|      17|2013-07-25|             2667|       COMPLETE|          NONE|\n",
      "|      18|2013-07-25|             1205|         CLOSED|          OVER|\n",
      "|      19|2013-07-25|             9488|PENDING_PAYMENT|       PENDING|\n",
      "|      20|2013-07-25|             9198|     PROCESSING|          NONE|\n",
      "+--------+----------+-----------------+---------------+--------------+\n",
      "only showing top 20 rows\n",
      "\n"
     ]
    }
   ],
   "source": [
    "orders.withColumn('Derived_Status',when(orders.order_status.isin('COMPLETED','CLOSED'),'OVER'). \\\n",
    "                  when(orders.order_status.isin('PENDING_PAYMENT'),'PENDING').otherwise('NONE')).show()"
   ]
  },
  {
   "cell_type": "markdown",
   "metadata": {},
   "source": [
    "# withColumnRenamed\n",
    "#### columns can be renamed with this API, where the first argument is the existing column name and the second argument is the new name."
   ]
  },
  {
   "cell_type": "code",
   "execution_count": null,
   "metadata": {},
   "outputs": [],
   "source": [
    "orders.withColumnRenamed('order_status','status_of_order').show()"
   ]
  },
  {
   "cell_type": "markdown",
   "metadata": {},
   "source": [
    "# filter"
   ]
  },
  {
   "cell_type": "markdown",
   "metadata": {},
   "source": [
    "#### filter as in SQL format"
   ]
  },
  {
   "cell_type": "code",
   "execution_count": null,
   "metadata": {},
   "outputs": [],
   "source": [
    "orders.filter(\"order_status = 'COMPLETE'\").show()\n",
    "#Note: Single '=' as in SQL format"
   ]
  },
  {
   "cell_type": "markdown",
   "metadata": {},
   "source": [
    "#### filter as in Dataframe format"
   ]
  },
  {
   "cell_type": "code",
   "execution_count": null,
   "metadata": {},
   "outputs": [],
   "source": [
    "orders.filter(orders.order_status == 'COMPLETE').show()\n",
    "#Note: Equality operator '==' for dataframe filter expression "
   ]
  },
  {
   "cell_type": "markdown",
   "metadata": {},
   "source": [
    "#### multiple filters in SQL format filter"
   ]
  },
  {
   "cell_type": "code",
   "execution_count": null,
   "metadata": {},
   "outputs": [],
   "source": [
    "orders.filter(\"order_status = 'COMPLETE' OR order_status = 'CLOSED'\").show()"
   ]
  },
  {
   "cell_type": "markdown",
   "metadata": {},
   "source": [
    "#### multiple filters in DataFrame format"
   ]
  },
  {
   "cell_type": "code",
   "execution_count": null,
   "metadata": {},
   "outputs": [],
   "source": [
    "orders.filter((orders.order_status == 'COMPLETE').__or__(orders.order_status == 'CLOSED')).show()"
   ]
  },
  {
   "cell_type": "markdown",
   "metadata": {},
   "source": [
    "###### Examples of few multiple filters"
   ]
  },
  {
   "cell_type": "code",
   "execution_count": null,
   "metadata": {},
   "outputs": [],
   "source": [
    "orders.filter(\"order_status in ('COMPLETE' ,'CLOSED') AND date_format(order_date,'yyyyMM') = '201308'\").show()"
   ]
  },
  {
   "cell_type": "code",
   "execution_count": null,
   "metadata": {},
   "outputs": [],
   "source": [
    "orders.filter((orders.order_status.isin('CLOSED','COMPLETE')).__and__(date_format(orders.order_date,'YYYYMM')=='201308')).show()"
   ]
  },
  {
   "cell_type": "code",
   "execution_count": null,
   "metadata": {},
   "outputs": [],
   "source": [
    "orders.filter('order_customer_id >= 1000').filter('order_customer_id != 1000').filter(orders.order_id.between(1000,1999)).show()"
   ]
  },
  {
   "cell_type": "markdown",
   "metadata": {},
   "source": [
    "# join"
   ]
  },
  {
   "cell_type": "markdown",
   "metadata": {},
   "source": [
    "#### simple inner join with one column mapping"
   ]
  },
  {
   "cell_type": "code",
   "execution_count": null,
   "metadata": {},
   "outputs": [],
   "source": [
    "orders.join(order_items, orders.order_id==order_items.order_item_order_id).show()"
   ]
  },
  {
   "cell_type": "markdown",
   "metadata": {},
   "source": [
    "#### inner join with multiple columns"
   ]
  },
  {
   "cell_type": "code",
   "execution_count": null,
   "metadata": {},
   "outputs": [],
   "source": [
    "orders.join(order_items, (orders.order_id==order_items.order_item_order_id) & (orders.order_id==order_items.order_item_order_id)).show()"
   ]
  },
  {
   "cell_type": "markdown",
   "metadata": {},
   "source": [
    "#### left join"
   ]
  },
  {
   "cell_type": "code",
   "execution_count": null,
   "metadata": {},
   "outputs": [],
   "source": [
    "customers.join(orders, customers.customer_id==orders.order_customer_id, 'left').show()"
   ]
  },
  {
   "cell_type": "markdown",
   "metadata": {},
   "source": [
    "#### right join"
   ]
  },
  {
   "cell_type": "code",
   "execution_count": null,
   "metadata": {},
   "outputs": [],
   "source": [
    "customers.join(orders, customers.customer_id==orders.order_customer_id, 'right').show()"
   ]
  },
  {
   "cell_type": "markdown",
   "metadata": {},
   "source": [
    "#### leftanti join - Join to fetch records which exists only in one table\n",
    "In the below case it will fetch the records which are present only in the orders and not in order_items"
   ]
  },
  {
   "cell_type": "code",
   "execution_count": null,
   "metadata": {},
   "outputs": [],
   "source": [
    "customers.join(orders, orders.order_customer_id==customers.customer_id, 'leftanti').show()"
   ]
  },
  {
   "cell_type": "markdown",
   "metadata": {},
   "source": [
    "#### crossJoin"
   ]
  },
  {
   "cell_type": "code",
   "execution_count": null,
   "metadata": {},
   "outputs": [],
   "source": [
    "orders.crossJoin(customers.filter(customers.customer_id == 1)).show()"
   ]
  },
  {
   "cell_type": "markdown",
   "metadata": {},
   "source": [
    "# distinct\n",
    "#### distinct will come at the end after the select"
   ]
  },
  {
   "cell_type": "code",
   "execution_count": null,
   "metadata": {},
   "outputs": [],
   "source": [
    "orders.select('order_status').distinct().show()"
   ]
  },
  {
   "cell_type": "markdown",
   "metadata": {},
   "source": [
    "# countDinstinct\n",
    "#### countDistinct will be handy "
   ]
  },
  {
   "cell_type": "code",
   "execution_count": null,
   "metadata": {},
   "outputs": [],
   "source": [
    "orders.select(countDistinct('order_status')).show()"
   ]
  },
  {
   "cell_type": "markdown",
   "metadata": {},
   "source": [
    "# orderBy/sort\n",
    "#### Note: sort is just an alias to orderBy"
   ]
  },
  {
   "cell_type": "code",
   "execution_count": null,
   "metadata": {},
   "outputs": [],
   "source": [
    "orders.orderBy(orders.order_date, orders.order_status.desc()).show()"
   ]
  },
  {
   "cell_type": "markdown",
   "metadata": {},
   "source": [
    "Note: Only absolute column name notation or col() works while mentioning in descending order desc()"
   ]
  },
  {
   "cell_type": "code",
   "execution_count": null,
   "metadata": {},
   "outputs": [],
   "source": [
    "orders.orderBy('order_date',col('order_status').desc()).show()"
   ]
  },
  {
   "cell_type": "markdown",
   "metadata": {},
   "source": [
    "# drop"
   ]
  },
  {
   "cell_type": "markdown",
   "metadata": {},
   "source": [
    "drop() will only take just the column names and it will not take any other expressions for the column"
   ]
  },
  {
   "cell_type": "code",
   "execution_count": null,
   "metadata": {},
   "outputs": [],
   "source": [
    "order_items.join(products,order_items.order_item_product_id==products.product_id).drop('product_price','product_description','product_image').show()"
   ]
  },
  {
   "cell_type": "code",
   "execution_count": null,
   "metadata": {},
   "outputs": [],
   "source": [
    "#order_items.join(products, order_item_product_id==products.product_id).drop(products.product_price, products.product_description, products.product_image).show()\n",
    "# Specifying full name of the column will not work "
   ]
  }
 ],
 "metadata": {
  "kernelspec": {
   "display_name": "Python 3.6.10 64-bit",
   "language": "python",
   "name": "python_defaultSpec_1594910627839"
  },
  "language_info": {
   "codemirror_mode": {
    "name": "ipython",
    "version": 3
   },
   "file_extension": ".py",
   "mimetype": "text/x-python",
   "name": "python",
   "nbconvert_exporter": "python",
   "pygments_lexer": "ipython3",
   "version": "3.6.10-final"
  }
 },
 "nbformat": 4,
 "nbformat_minor": 4
}