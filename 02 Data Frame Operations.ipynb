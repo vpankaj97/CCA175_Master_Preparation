{
 "cells": [
  {
   "cell_type": "code",
   "execution_count": 1,
   "metadata": {},
   "outputs": [],
   "source": [
    "import findspark as fs\n",
    "fs.init()\n",
    "from pyspark.sql import SparkSession\n",
    "from pyspark.sql import SQLContext\n",
    "from pyspark.sql.functions import isnan, when, count, col, translate, lower\n",
    "from pyspark.sql.types import IntegerType, FloatType\n",
    "from pyspark.sql import functions as F\n",
    "spark=SparkSession.builder.appName('GoogleData').master('local').getOrCreate()\n",
    "sc=spark.sparkContext\n",
    "sql=SQLContext(sc)"
   ]
  },
  {
   "cell_type": "code",
   "execution_count": 2,
   "metadata": {},
   "outputs": [
    {
     "output_type": "execute_result",
     "data": {
      "text/plain": "<pyspark.sql.session.SparkSession at 0x1327351d978>",
      "text/html": "\n            <div>\n                <p><b>SparkSession - in-memory</b></p>\n                \n        <div>\n            <p><b>SparkContext</b></p>\n\n            <p><a href=\"http://DESKTOP-1MLG7LO.mshome.net:4040\">Spark UI</a></p>\n\n            <dl>\n              <dt>Version</dt>\n                <dd><code>v3.0.0</code></dd>\n              <dt>Master</dt>\n                <dd><code>local</code></dd>\n              <dt>AppName</dt>\n                <dd><code>GoogleData</code></dd>\n            </dl>\n        </div>\n        \n            </div>\n        "
     },
     "metadata": {},
     "execution_count": 2
    }
   ],
   "source": [
    "spark"
   ]
  },
  {
   "cell_type": "code",
   "execution_count": 3,
   "metadata": {},
   "outputs": [],
   "source": [
    "orders = spark.read.csv('retail_db//orders.csv',header=True,inferSchema=True)\n",
    "order_items = spark.read.csv('retail_db//order_items.csv',header=True,inferSchema=True)\n",
    "customers = spark.read.csv('retail_db//customers.csv',header=True,inferSchema=True)\n",
    "products = spark.read.csv('retail_db//products.csv',header=True,inferSchema=True)"
   ]
  },
  {
   "cell_type": "markdown",
   "metadata": {},
   "source": [
    "# select"
   ]
  },
  {
   "cell_type": "code",
   "execution_count": 4,
   "metadata": {
    "tags": []
   },
   "outputs": [
    {
     "output_type": "stream",
     "name": "stdout",
     "text": "+---------------+---------------+---------------+\n|   order_status|   order_status|   order_status|\n+---------------+---------------+---------------+\n|         CLOSED|         CLOSED|         CLOSED|\n|PENDING_PAYMENT|PENDING_PAYMENT|PENDING_PAYMENT|\n|       COMPLETE|       COMPLETE|       COMPLETE|\n|         CLOSED|         CLOSED|         CLOSED|\n|       COMPLETE|       COMPLETE|       COMPLETE|\n|       COMPLETE|       COMPLETE|       COMPLETE|\n|       COMPLETE|       COMPLETE|       COMPLETE|\n|     PROCESSING|     PROCESSING|     PROCESSING|\n|PENDING_PAYMENT|PENDING_PAYMENT|PENDING_PAYMENT|\n|PENDING_PAYMENT|PENDING_PAYMENT|PENDING_PAYMENT|\n| PAYMENT_REVIEW| PAYMENT_REVIEW| PAYMENT_REVIEW|\n|         CLOSED|         CLOSED|         CLOSED|\n|PENDING_PAYMENT|PENDING_PAYMENT|PENDING_PAYMENT|\n|     PROCESSING|     PROCESSING|     PROCESSING|\n|       COMPLETE|       COMPLETE|       COMPLETE|\n|PENDING_PAYMENT|PENDING_PAYMENT|PENDING_PAYMENT|\n|       COMPLETE|       COMPLETE|       COMPLETE|\n|         CLOSED|         CLOSED|         CLOSED|\n|PENDING_PAYMENT|PENDING_PAYMENT|PENDING_PAYMENT|\n|     PROCESSING|     PROCESSING|     PROCESSING|\n+---------------+---------------+---------------+\nonly showing top 20 rows\n\n"
    }
   ],
   "source": [
    "orders.select(orders.order_status,'order_status',col('order_status')).show()"
   ]
  },
  {
   "cell_type": "markdown",
   "metadata": {},
   "source": [
    "#### But while using functions it is applicable to specify the full notation, i.e., dataframe.column_name or using col as below"
   ]
  },
  {
   "cell_type": "code",
   "execution_count": 12,
   "metadata": {
    "tags": []
   },
   "outputs": [
    {
     "output_type": "stream",
     "name": "stdout",
     "text": "+-------------------+-------------------+-------------------+\n|lower(order_status)|lower(order_status)|lower(order_status)|\n+-------------------+-------------------+-------------------+\n|             closed|             closed|             closed|\n|    pending_payment|    pending_payment|    pending_payment|\n|           complete|           complete|           complete|\n|             closed|             closed|             closed|\n|           complete|           complete|           complete|\n|           complete|           complete|           complete|\n|           complete|           complete|           complete|\n|         processing|         processing|         processing|\n|    pending_payment|    pending_payment|    pending_payment|\n|    pending_payment|    pending_payment|    pending_payment|\n|     payment_review|     payment_review|     payment_review|\n|             closed|             closed|             closed|\n|    pending_payment|    pending_payment|    pending_payment|\n|         processing|         processing|         processing|\n|           complete|           complete|           complete|\n|    pending_payment|    pending_payment|    pending_payment|\n|           complete|           complete|           complete|\n|             closed|             closed|             closed|\n|    pending_payment|    pending_payment|    pending_payment|\n|         processing|         processing|         processing|\n+-------------------+-------------------+-------------------+\nonly showing top 20 rows\n\n"
    }
   ],
   "source": [
    "orders.select(lower(orders.order_status),lower(col('order_status')),lower('order_status')).show()"
   ]
  },
  {
   "cell_type": "markdown",
   "metadata": {},
   "source": [
    "# alias\n",
    "#### alias should be enclosed within select "
   ]
  },
  {
   "cell_type": "markdown",
   "metadata": {},
   "source": [
    "### Note : Please do not give alias the same name as built-in functions "
   ]
  },
  {
   "cell_type": "code",
   "execution_count": 20,
   "metadata": {
    "tags": []
   },
   "outputs": [
    {
     "output_type": "execute_result",
     "data": {
      "text/plain": "DataFrame[1: string, 2: string, 3: string]"
     },
     "metadata": {},
     "execution_count": 20
    }
   ],
   "source": [
    "#orders.select(orders.order_status.alias('Status_alias')).show()\n",
    "#Note: orders.select('order_status').alias('Status_alias').show()  will not work\n",
    "orders.select(lower(orders.order_status).alias('1'),lower(col('order_status')).alias('2'),lower('order_status').alias('3'))"
   ]
  },
  {
   "cell_type": "markdown",
   "metadata": {},
   "source": [
    "## Distinct"
   ]
  },
  {
   "cell_type": "code",
   "execution_count": 19,
   "metadata": {
    "tags": []
   },
   "outputs": [
    {
     "output_type": "stream",
     "name": "stdout",
     "text": "+---------------+---------------+---------------+\n|              1|              2|              3|\n+---------------+---------------+---------------+\n|        on_hold|        on_hold|        on_hold|\n|     processing|     processing|     processing|\n|       canceled|       canceled|       canceled|\n|        pending|        pending|        pending|\n|         closed|         closed|         closed|\n| payment_review| payment_review| payment_review|\n|       complete|       complete|       complete|\n|suspected_fraud|suspected_fraud|suspected_fraud|\n|pending_payment|pending_payment|pending_payment|\n+---------------+---------------+---------------+\n\n"
    }
   ],
   "source": [
    "orders.select(lower(orders.order_status).alias('1'),lower(col('order_status')).alias('2'),lower('order_status').alias('3')).distinct().show()"
   ]
  },
  {
   "cell_type": "markdown",
   "metadata": {},
   "source": [
    "# withcolumn\n",
    "#### If already existing column name is given, then the new column expression will replace the existing column. (It will not add another column)\n"
   ]
  },
  {
   "cell_type": "code",
   "execution_count": 25,
   "metadata": {},
   "outputs": [],
   "source": [
    "orders = orders. \\\n",
    "withColumn('order_id',orders.order_id.cast('bigint')). \\\n",
    "withColumn('order_date',orders.order_date.cast('date')). \\\n",
    "withColumn('order_customer_id',orders.order_customer_id.cast('bigint')). \\\n",
    "withColumn('order_status',col('order_status').cast('string')) \n"
   ]
  },
  {
   "cell_type": "code",
   "execution_count": 7,
   "metadata": {
    "tags": []
   },
   "outputs": [
    {
     "output_type": "stream",
     "name": "stdout",
     "text": "+--------+---------------+------------+\n|order_id|   order_status|SomethingNew|\n+--------+---------------+------------+\n|       1|         CLOSED|           2|\n|       2|PENDING_PAYMENT|           3|\n|       3|       COMPLETE|           4|\n|       4|         CLOSED|           5|\n|       5|       COMPLETE|           6|\n|       6|       COMPLETE|           7|\n|       7|       COMPLETE|           8|\n|       8|     PROCESSING|           9|\n|       9|PENDING_PAYMENT|          10|\n|      10|PENDING_PAYMENT|          11|\n|      11| PAYMENT_REVIEW|          12|\n|      12|         CLOSED|          13|\n|      13|PENDING_PAYMENT|          14|\n|      14|     PROCESSING|          15|\n|      15|       COMPLETE|          16|\n|      16|PENDING_PAYMENT|          17|\n|      17|       COMPLETE|          18|\n|      18|         CLOSED|          19|\n|      19|PENDING_PAYMENT|          20|\n|      20|     PROCESSING|          21|\n+--------+---------------+------------+\nonly showing top 20 rows\n\n"
    }
   ],
   "source": [
    "orders.select('order_id','order_status').withColumn('SomethingNew',orders.order_id+1).show()"
   ]
  },
  {
   "cell_type": "markdown",
   "metadata": {},
   "source": [
    "#### Given below are the cast notations from pyspark.sql.types"
   ]
  },
  {
   "cell_type": "code",
   "execution_count": null,
   "metadata": {},
   "outputs": [],
   "source": [
    "BinaryType: binary\n",
    "BooleanType: boolean\n",
    "ByteType: tinyint\n",
    "DateType: date\n",
    "DecimalType: decimal(10,0)\n",
    "DoubleType: double\n",
    "FloatType: float\n",
    "IntegerType: int\n",
    "LongType: bigint\n",
    "ShortType: smallint\n",
    "StringType: string\n",
    "TimestampType: timestamp"
   ]
  },
  {
   "cell_type": "markdown",
   "metadata": {},
   "source": [
    "# selectExpr"
   ]
  },
  {
   "cell_type": "markdown",
   "metadata": {},
   "source": [
    "#### SQL like expressions can be used for evaluation"
   ]
  },
  {
   "cell_type": "code",
   "execution_count": 32,
   "metadata": {
    "tags": []
   },
   "outputs": [
    {
     "output_type": "stream",
     "name": "stdout",
     "text": "+--------------------+\n|            textdata|\n+--------------------+\n|12013-07-25 00:00...|\n+--------------------+\nonly showing top 1 row\n\n"
    }
   ],
   "source": [
    "orders.selectExpr('order_id||order_date||\",\"||order_customer_id||\",\"||order_status||\",\" as textdata ').show(1)"
   ]
  },
  {
   "cell_type": "markdown",
   "metadata": {},
   "source": [
    "# case\n",
    "#### CASE as in SQL can be used"
   ]
  },
  {
   "cell_type": "code",
   "execution_count": 33,
   "metadata": {
    "tags": []
   },
   "outputs": [
    {
     "output_type": "stream",
     "name": "stdout",
     "text": "+--------------+\n|Derived_status|\n+--------------+\n|    COMPLETELD|\n|          NONE|\n|    COMPLETELD|\n|    COMPLETELD|\n|    COMPLETELD|\n|    COMPLETELD|\n|    COMPLETELD|\n|          NONE|\n|          NONE|\n|          NONE|\n|          NONE|\n|    COMPLETELD|\n|          NONE|\n|          NONE|\n|    COMPLETELD|\n|          NONE|\n|    COMPLETELD|\n|    COMPLETELD|\n|          NONE|\n|          NONE|\n+--------------+\nonly showing top 20 rows\n\n"
    }
   ],
   "source": [
    "orders.selectExpr('CASE WHEN order_status in (\"COMPLETE\",\"CLOSED\") THEN \"COMPLETELD\" WHEN order_status = \"CANCELED\" THEN \"CANCEL\" ELSE \"NONE\" END Derived_status').show()"
   ]
  },
  {
   "cell_type": "markdown",
   "metadata": {},
   "source": [
    "# when\n",
    "#### Dataframe equivalent of case "
   ]
  },
  {
   "cell_type": "code",
   "execution_count": 4,
   "metadata": {
    "tags": []
   },
   "outputs": [
    {
     "output_type": "stream",
     "name": "stdout",
     "text": "+--------+--------------------+-----------------+---------------+--------+\n|order_id|          order_date|order_customer_id|   order_status| Derived|\n+--------+--------------------+-----------------+---------------+--------+\n|       1|2013-07-25 00:00:...|            11599|         CLOSED|  DONEEE|\n|       2|2013-07-25 00:00:...|              256|PENDING_PAYMENT|  Gareeb|\n|       3|2013-07-25 00:00:...|            12111|       COMPLETE|  DONEEE|\n|       4|2013-07-25 00:00:...|             8827|         CLOSED|  DONEEE|\n|       5|2013-07-25 00:00:...|            11318|       COMPLETE|  DONEEE|\n|       6|2013-07-25 00:00:...|             7130|       COMPLETE|  DONEEE|\n|       7|2013-07-25 00:00:...|             4530|       COMPLETE|  DONEEE|\n|       8|2013-07-25 00:00:...|             2911|     PROCESSING|Bhool Ja|\n|       9|2013-07-25 00:00:...|             5657|PENDING_PAYMENT|  Gareeb|\n|      10|2013-07-25 00:00:...|             5648|PENDING_PAYMENT|  Gareeb|\n|      11|2013-07-25 00:00:...|              918| PAYMENT_REVIEW|Bhool Ja|\n|      12|2013-07-25 00:00:...|             1837|         CLOSED|  DONEEE|\n|      13|2013-07-25 00:00:...|             9149|PENDING_PAYMENT|  Gareeb|\n|      14|2013-07-25 00:00:...|             9842|     PROCESSING|Bhool Ja|\n|      15|2013-07-25 00:00:...|             2568|       COMPLETE|  DONEEE|\n|      16|2013-07-25 00:00:...|             7276|PENDING_PAYMENT|  Gareeb|\n|      17|2013-07-25 00:00:...|             2667|       COMPLETE|  DONEEE|\n|      18|2013-07-25 00:00:...|             1205|         CLOSED|  DONEEE|\n|      19|2013-07-25 00:00:...|             9488|PENDING_PAYMENT|  Gareeb|\n|      20|2013-07-25 00:00:...|             9198|     PROCESSING|Bhool Ja|\n+--------+--------------------+-----------------+---------------+--------+\nonly showing top 20 rows\n\n"
    }
   ],
   "source": [
    "orders.withColumn('Derived',when(orders.order_status.isin('COMPLETE','CLOSED'),'DONEEE').when(orders.order_status=='PENDING_PAYMENT','Gareeb').otherwise('Bhool Ja')).show()"
   ]
  },
  {
   "cell_type": "markdown",
   "metadata": {},
   "source": [
    "# withColumnRenamed\n",
    "#### columns can be renamed with this API, where the first argument is the existing column name and the second argument is the new name."
   ]
  },
  {
   "cell_type": "code",
   "execution_count": 40,
   "metadata": {},
   "outputs": [
    {
     "output_type": "stream",
     "name": "stdout",
     "text": "+--------+--------------------+-----------------+---------------+\n|order_id|          order_date|order_customer_id|status_of_order|\n+--------+--------------------+-----------------+---------------+\n|       1|2013-07-25 00:00:...|            11599|         CLOSED|\n|       2|2013-07-25 00:00:...|              256|PENDING_PAYMENT|\n|       3|2013-07-25 00:00:...|            12111|       COMPLETE|\n|       4|2013-07-25 00:00:...|             8827|         CLOSED|\n|       5|2013-07-25 00:00:...|            11318|       COMPLETE|\n|       6|2013-07-25 00:00:...|             7130|       COMPLETE|\n|       7|2013-07-25 00:00:...|             4530|       COMPLETE|\n|       8|2013-07-25 00:00:...|             2911|     PROCESSING|\n|       9|2013-07-25 00:00:...|             5657|PENDING_PAYMENT|\n|      10|2013-07-25 00:00:...|             5648|PENDING_PAYMENT|\n|      11|2013-07-25 00:00:...|              918| PAYMENT_REVIEW|\n|      12|2013-07-25 00:00:...|             1837|         CLOSED|\n|      13|2013-07-25 00:00:...|             9149|PENDING_PAYMENT|\n|      14|2013-07-25 00:00:...|             9842|     PROCESSING|\n|      15|2013-07-25 00:00:...|             2568|       COMPLETE|\n|      16|2013-07-25 00:00:...|             7276|PENDING_PAYMENT|\n|      17|2013-07-25 00:00:...|             2667|       COMPLETE|\n|      18|2013-07-25 00:00:...|             1205|         CLOSED|\n|      19|2013-07-25 00:00:...|             9488|PENDING_PAYMENT|\n|      20|2013-07-25 00:00:...|             9198|     PROCESSING|\n+--------+--------------------+-----------------+---------------+\nonly showing top 20 rows\n\n"
    }
   ],
   "source": [
    "orders.withColumnRenamed('order_status','status_of_order').show()"
   ]
  },
  {
   "cell_type": "markdown",
   "metadata": {},
   "source": [
    "# filter"
   ]
  },
  {
   "cell_type": "markdown",
   "metadata": {},
   "source": [
    "#### filter as in SQL format"
   ]
  },
  {
   "cell_type": "code",
   "execution_count": 44,
   "metadata": {},
   "outputs": [
    {
     "output_type": "stream",
     "text": "\u001b[1;31mSignature:\u001b[0m \u001b[0morders\u001b[0m\u001b[1;33m.\u001b[0m\u001b[0mfilter\u001b[0m\u001b[1;33m(\u001b[0m\u001b[0mcondition\u001b[0m\u001b[1;33m)\u001b[0m\u001b[1;33m\u001b[0m\u001b[1;33m\u001b[0m\u001b[0m\n\u001b[1;31mDocstring:\u001b[0m\nFilters rows using the given condition.\n\n:func:`where` is an alias for :func:`filter`.\n\n:param condition: a :class:`Column` of :class:`types.BooleanType`\n    or a string of SQL expression.\n\n>>> df.filter(df.age > 3).collect()\n[Row(age=5, name='Bob')]\n>>> df.where(df.age == 2).collect()\n[Row(age=2, name='Alice')]\n\n>>> df.filter(\"age > 3\").collect()\n[Row(age=5, name='Bob')]\n>>> df.where(\"age = 2\").collect()\n[Row(age=2, name='Alice')]\n\n.. versionadded:: 1.3\n\u001b[1;31mFile:\u001b[0m      d:\\documents\\pyspark\\spark-3.0.0\\python\\pyspark\\sql\\dataframe.py\n\u001b[1;31mType:\u001b[0m      method\n"
    }
   ],
   "source": [
    "orders.filter?"
   ]
  },
  {
   "cell_type": "code",
   "execution_count": 41,
   "metadata": {},
   "outputs": [
    {
     "output_type": "stream",
     "name": "stdout",
     "text": "+--------+--------------------+-----------------+------------+\n|order_id|          order_date|order_customer_id|order_status|\n+--------+--------------------+-----------------+------------+\n|       3|2013-07-25 00:00:...|            12111|    COMPLETE|\n|       5|2013-07-25 00:00:...|            11318|    COMPLETE|\n|       6|2013-07-25 00:00:...|             7130|    COMPLETE|\n|       7|2013-07-25 00:00:...|             4530|    COMPLETE|\n|      15|2013-07-25 00:00:...|             2568|    COMPLETE|\n|      17|2013-07-25 00:00:...|             2667|    COMPLETE|\n|      22|2013-07-25 00:00:...|              333|    COMPLETE|\n|      26|2013-07-25 00:00:...|             7562|    COMPLETE|\n|      28|2013-07-25 00:00:...|              656|    COMPLETE|\n|      32|2013-07-25 00:00:...|             3960|    COMPLETE|\n|      35|2013-07-25 00:00:...|             4840|    COMPLETE|\n|      45|2013-07-25 00:00:...|             2636|    COMPLETE|\n|      56|2013-07-25 00:00:...|            10519|    COMPLETE|\n|      63|2013-07-25 00:00:...|             1148|    COMPLETE|\n|      65|2013-07-25 00:00:...|             5903|    COMPLETE|\n|      67|2013-07-25 00:00:...|             1406|    COMPLETE|\n|      71|2013-07-25 00:00:...|             8646|    COMPLETE|\n|      72|2013-07-25 00:00:...|             4349|    COMPLETE|\n|      76|2013-07-25 00:00:...|             6898|    COMPLETE|\n|      80|2013-07-25 00:00:...|             3007|    COMPLETE|\n+--------+--------------------+-----------------+------------+\nonly showing top 20 rows\n\n"
    }
   ],
   "source": [
    "orders.filter(\"order_status = 'COMPLETE'\").show()\n",
    "#Note: Single '=' as in SQL format"
   ]
  },
  {
   "cell_type": "markdown",
   "metadata": {},
   "source": [
    "#### filter as in Dataframe format"
   ]
  },
  {
   "cell_type": "code",
   "execution_count": 48,
   "metadata": {},
   "outputs": [
    {
     "output_type": "stream",
     "name": "stdout",
     "text": "+--------+--------------------+-----------------+------------+\n|order_id|          order_date|order_customer_id|order_status|\n+--------+--------------------+-----------------+------------+\n|       3|2013-07-25 00:00:...|            12111|    COMPLETE|\n|       5|2013-07-25 00:00:...|            11318|    COMPLETE|\n|       6|2013-07-25 00:00:...|             7130|    COMPLETE|\n|       7|2013-07-25 00:00:...|             4530|    COMPLETE|\n|      15|2013-07-25 00:00:...|             2568|    COMPLETE|\n|      17|2013-07-25 00:00:...|             2667|    COMPLETE|\n|      22|2013-07-25 00:00:...|              333|    COMPLETE|\n|      26|2013-07-25 00:00:...|             7562|    COMPLETE|\n|      28|2013-07-25 00:00:...|              656|    COMPLETE|\n|      32|2013-07-25 00:00:...|             3960|    COMPLETE|\n|      35|2013-07-25 00:00:...|             4840|    COMPLETE|\n|      45|2013-07-25 00:00:...|             2636|    COMPLETE|\n|      56|2013-07-25 00:00:...|            10519|    COMPLETE|\n|      63|2013-07-25 00:00:...|             1148|    COMPLETE|\n|      65|2013-07-25 00:00:...|             5903|    COMPLETE|\n|      67|2013-07-25 00:00:...|             1406|    COMPLETE|\n|      71|2013-07-25 00:00:...|             8646|    COMPLETE|\n|      72|2013-07-25 00:00:...|             4349|    COMPLETE|\n|      76|2013-07-25 00:00:...|             6898|    COMPLETE|\n|      80|2013-07-25 00:00:...|             3007|    COMPLETE|\n+--------+--------------------+-----------------+------------+\nonly showing top 20 rows\n\n"
    }
   ],
   "source": [
    "orders.filter(orders.order_status == 'COMPLETE').show()\n",
    "#Note: Equality operator '==' for dataframe filter expression "
   ]
  },
  {
   "cell_type": "markdown",
   "metadata": {},
   "source": [
    "#### multiple filters in SQL format filter"
   ]
  },
  {
   "cell_type": "code",
   "execution_count": 5,
   "metadata": {
    "tags": []
   },
   "outputs": [
    {
     "output_type": "stream",
     "name": "stdout",
     "text": "+--------+--------------------+-----------------+------------+\n|order_id|          order_date|order_customer_id|order_status|\n+--------+--------------------+-----------------+------------+\n|       1|2013-07-25 00:00:...|            11599|      CLOSED|\n|       3|2013-07-25 00:00:...|            12111|    COMPLETE|\n|       4|2013-07-25 00:00:...|             8827|      CLOSED|\n|       5|2013-07-25 00:00:...|            11318|    COMPLETE|\n|       6|2013-07-25 00:00:...|             7130|    COMPLETE|\n|       7|2013-07-25 00:00:...|             4530|    COMPLETE|\n|      12|2013-07-25 00:00:...|             1837|      CLOSED|\n|      15|2013-07-25 00:00:...|             2568|    COMPLETE|\n|      17|2013-07-25 00:00:...|             2667|    COMPLETE|\n|      18|2013-07-25 00:00:...|             1205|      CLOSED|\n|      22|2013-07-25 00:00:...|              333|    COMPLETE|\n|      24|2013-07-25 00:00:...|            11441|      CLOSED|\n|      25|2013-07-25 00:00:...|             9503|      CLOSED|\n|      26|2013-07-25 00:00:...|             7562|    COMPLETE|\n|      28|2013-07-25 00:00:...|              656|    COMPLETE|\n|      32|2013-07-25 00:00:...|             3960|    COMPLETE|\n|      35|2013-07-25 00:00:...|             4840|    COMPLETE|\n|      37|2013-07-25 00:00:...|             5863|      CLOSED|\n|      45|2013-07-25 00:00:...|             2636|    COMPLETE|\n|      51|2013-07-25 00:00:...|            12271|      CLOSED|\n+--------+--------------------+-----------------+------------+\nonly showing top 20 rows\n\n"
    }
   ],
   "source": [
    "orders.filter(\"order_status = 'COMPLETE' OR order_status = 'CLOSED'\").show()"
   ]
  },
  {
   "cell_type": "markdown",
   "metadata": {},
   "source": [
    "#### multiple filters in DataFrame format"
   ]
  },
  {
   "cell_type": "code",
   "execution_count": 68,
   "metadata": {
    "tags": []
   },
   "outputs": [
    {
     "output_type": "stream",
     "name": "stdout",
     "text": "+--------+--------------------+-----------------+------------+\n|order_id|          order_date|order_customer_id|order_status|\n+--------+--------------------+-----------------+------------+\n|       1|2013-07-25 00:00:...|            11599|      CLOSED|\n|       3|2013-07-25 00:00:...|            12111|    COMPLETE|\n|       4|2013-07-25 00:00:...|             8827|      CLOSED|\n|       5|2013-07-25 00:00:...|            11318|    COMPLETE|\n|       6|2013-07-25 00:00:...|             7130|    COMPLETE|\n|       7|2013-07-25 00:00:...|             4530|    COMPLETE|\n|      12|2013-07-25 00:00:...|             1837|      CLOSED|\n|      15|2013-07-25 00:00:...|             2568|    COMPLETE|\n|      17|2013-07-25 00:00:...|             2667|    COMPLETE|\n|      18|2013-07-25 00:00:...|             1205|      CLOSED|\n|      22|2013-07-25 00:00:...|              333|    COMPLETE|\n|      24|2013-07-25 00:00:...|            11441|      CLOSED|\n|      25|2013-07-25 00:00:...|             9503|      CLOSED|\n|      26|2013-07-25 00:00:...|             7562|    COMPLETE|\n|      28|2013-07-25 00:00:...|              656|    COMPLETE|\n|      32|2013-07-25 00:00:...|             3960|    COMPLETE|\n|      35|2013-07-25 00:00:...|             4840|    COMPLETE|\n|      37|2013-07-25 00:00:...|             5863|      CLOSED|\n|      45|2013-07-25 00:00:...|             2636|    COMPLETE|\n|      51|2013-07-25 00:00:...|            12271|      CLOSED|\n+--------+--------------------+-----------------+------------+\nonly showing top 20 rows\n\nNone\n+--------+--------------------+-----------------+------------+\n|order_id|          order_date|order_customer_id|order_status|\n+--------+--------------------+-----------------+------------+\n|       1|2013-07-25 00:00:...|            11599|      CLOSED|\n|       3|2013-07-25 00:00:...|            12111|    COMPLETE|\n|       4|2013-07-25 00:00:...|             8827|      CLOSED|\n|       5|2013-07-25 00:00:...|            11318|    COMPLETE|\n|       6|2013-07-25 00:00:...|             7130|    COMPLETE|\n|       7|2013-07-25 00:00:...|             4530|    COMPLETE|\n|      12|2013-07-25 00:00:...|             1837|      CLOSED|\n|      15|2013-07-25 00:00:...|             2568|    COMPLETE|\n|      17|2013-07-25 00:00:...|             2667|    COMPLETE|\n|      18|2013-07-25 00:00:...|             1205|      CLOSED|\n|      22|2013-07-25 00:00:...|              333|    COMPLETE|\n|      24|2013-07-25 00:00:...|            11441|      CLOSED|\n|      25|2013-07-25 00:00:...|             9503|      CLOSED|\n|      26|2013-07-25 00:00:...|             7562|    COMPLETE|\n|      28|2013-07-25 00:00:...|              656|    COMPLETE|\n|      32|2013-07-25 00:00:...|             3960|    COMPLETE|\n|      35|2013-07-25 00:00:...|             4840|    COMPLETE|\n|      37|2013-07-25 00:00:...|             5863|      CLOSED|\n|      45|2013-07-25 00:00:...|             2636|    COMPLETE|\n|      51|2013-07-25 00:00:...|            12271|      CLOSED|\n+--------+--------------------+-----------------+------------+\nonly showing top 20 rows\n\n"
    }
   ],
   "source": [
    "#orders.filter((orders.order_status == 'COMPLETE').__or__(orders.order_status == 'CLOSED')).show() \n",
    "orders.filter((orders.order_status == 'COMPLETE') | (orders.order_status == 'CLOSED')).show()"
   ]
  },
  {
   "cell_type": "markdown",
   "metadata": {},
   "source": [
    "###### Examples of few multiple filters"
   ]
  },
  {
   "cell_type": "code",
   "execution_count": 7,
   "metadata": {
    "tags": []
   },
   "outputs": [
    {
     "output_type": "stream",
     "name": "stdout",
     "text": "+--------+--------------------+-----------------+------------+\n|order_id|          order_date|order_customer_id|order_status|\n+--------+--------------------+-----------------+------------+\n|    1297|2013-08-01 00:00:...|            11607|    COMPLETE|\n|    1298|2013-08-01 00:00:...|             5105|      CLOSED|\n|    1299|2013-08-01 00:00:...|             7802|    COMPLETE|\n|    1302|2013-08-01 00:00:...|             1695|    COMPLETE|\n|    1304|2013-08-01 00:00:...|             2059|    COMPLETE|\n|    1305|2013-08-01 00:00:...|             3844|    COMPLETE|\n|    1307|2013-08-01 00:00:...|             4474|    COMPLETE|\n|    1309|2013-08-01 00:00:...|             2367|      CLOSED|\n|    1312|2013-08-01 00:00:...|            12291|    COMPLETE|\n|    1314|2013-08-01 00:00:...|            10993|    COMPLETE|\n|    1315|2013-08-01 00:00:...|             5660|    COMPLETE|\n|    1318|2013-08-01 00:00:...|             4212|    COMPLETE|\n|    1319|2013-08-01 00:00:...|             3966|    COMPLETE|\n|    1320|2013-08-01 00:00:...|            12270|    COMPLETE|\n|    1321|2013-08-01 00:00:...|              800|    COMPLETE|\n|    1322|2013-08-01 00:00:...|             9264|    COMPLETE|\n|    1323|2013-08-01 00:00:...|             7422|    COMPLETE|\n|    1324|2013-08-01 00:00:...|             4600|    COMPLETE|\n|    1327|2013-08-01 00:00:...|             9526|    COMPLETE|\n|    1329|2013-08-01 00:00:...|             6070|      CLOSED|\n+--------+--------------------+-----------------+------------+\nonly showing top 20 rows\n\n"
    }
   ],
   "source": [
    "orders.filter(\"order_status in ('COMPLETE' ,'CLOSED') AND date_format(order_date,'yyyyMM') = '201308'\").show()"
   ]
  },
  {
   "cell_type": "code",
   "execution_count": 64,
   "metadata": {
    "tags": []
   },
   "outputs": [
    {
     "output_type": "stream",
     "name": "stdout",
     "text": "+--------+--------------------+-----------------+------------+\n|order_id|          order_date|order_customer_id|order_status|\n+--------+--------------------+-----------------+------------+\n|    1297|2013-08-01 00:00:...|            11607|    COMPLETE|\n|    1298|2013-08-01 00:00:...|             5105|      CLOSED|\n|    1299|2013-08-01 00:00:...|             7802|    COMPLETE|\n|    1302|2013-08-01 00:00:...|             1695|    COMPLETE|\n|    1304|2013-08-01 00:00:...|             2059|    COMPLETE|\n|    1305|2013-08-01 00:00:...|             3844|    COMPLETE|\n|    1307|2013-08-01 00:00:...|             4474|    COMPLETE|\n|    1309|2013-08-01 00:00:...|             2367|      CLOSED|\n|    1312|2013-08-01 00:00:...|            12291|    COMPLETE|\n|    1314|2013-08-01 00:00:...|            10993|    COMPLETE|\n|    1315|2013-08-01 00:00:...|             5660|    COMPLETE|\n|    1318|2013-08-01 00:00:...|             4212|    COMPLETE|\n|    1319|2013-08-01 00:00:...|             3966|    COMPLETE|\n|    1320|2013-08-01 00:00:...|            12270|    COMPLETE|\n|    1321|2013-08-01 00:00:...|              800|    COMPLETE|\n|    1322|2013-08-01 00:00:...|             9264|    COMPLETE|\n|    1323|2013-08-01 00:00:...|             7422|    COMPLETE|\n|    1324|2013-08-01 00:00:...|             4600|    COMPLETE|\n|    1327|2013-08-01 00:00:...|             9526|    COMPLETE|\n|    1329|2013-08-01 00:00:...|             6070|      CLOSED|\n+--------+--------------------+-----------------+------------+\nonly showing top 20 rows\n\n"
    }
   ],
   "source": [
    "#orders.registerTempTable(\"df\")\n",
    "#spark.sql(\"select * from df where order_date like '2013-08%'\").show()\n",
    "\n",
    "orders.filter(orders.order_status.isin('COMPLETE','CLOSED') & orders.order_date.like('2013-08%')).show()"
   ]
  },
  {
   "cell_type": "code",
   "execution_count": 13,
   "metadata": {
    "tags": []
   },
   "outputs": [
    {
     "output_type": "stream",
     "name": "stdout",
     "text": "+--------+--------------------+-----------------+---------------+\n|order_id|          order_date|order_customer_id|   order_status|\n+--------+--------------------+-----------------+---------------+\n|    1001|2013-07-30 00:00:...|             6650|       COMPLETE|\n|    1002|2013-07-30 00:00:...|             5170|SUSPECTED_FRAUD|\n|    1003|2013-07-30 00:00:...|             7438|       COMPLETE|\n|    1004|2013-07-30 00:00:...|            10701|       COMPLETE|\n|    1005|2013-07-30 00:00:...|             7958|     PROCESSING|\n|    1006|2013-07-30 00:00:...|             9028|       COMPLETE|\n|    1007|2013-07-30 00:00:...|             1417|PENDING_PAYMENT|\n|    1008|2013-07-30 00:00:...|             4331|         CLOSED|\n|    1009|2013-07-30 00:00:...|             7886|       COMPLETE|\n|    1010|2013-07-30 00:00:...|             2512|       COMPLETE|\n|    1011|2013-07-30 00:00:...|             7214|       COMPLETE|\n|    1012|2013-07-30 00:00:...|             3245|         CLOSED|\n|    1013|2013-07-30 00:00:...|             1903|       CANCELED|\n|    1014|2013-07-30 00:00:...|            12077|     PROCESSING|\n|    1015|2013-07-30 00:00:...|             1136|PENDING_PAYMENT|\n|    1016|2013-07-30 00:00:...|             5231|PENDING_PAYMENT|\n|    1017|2013-07-30 00:00:...|             3781|     PROCESSING|\n|    1019|2013-07-30 00:00:...|             4475|PENDING_PAYMENT|\n|    1020|2013-07-30 00:00:...|             4815|PENDING_PAYMENT|\n|    1021|2013-07-30 00:00:...|            10118|       COMPLETE|\n+--------+--------------------+-----------------+---------------+\nonly showing top 20 rows\n\n"
    }
   ],
   "source": [
    "orders.filter('order_customer_id >= 1000').filter('order_customer_id != 2321').filter(orders.order_id.between(1000,1999)).show()"
   ]
  },
  {
   "cell_type": "markdown",
   "metadata": {},
   "source": [
    "# join"
   ]
  },
  {
   "cell_type": "markdown",
   "metadata": {},
   "source": [
    "#### simple inner join with one column mapping"
   ]
  },
  {
   "cell_type": "code",
   "execution_count": 15,
   "metadata": {},
   "outputs": [
    {
     "output_type": "stream",
     "text": "\u001b[1;31mSignature:\u001b[0m \u001b[0morders\u001b[0m\u001b[1;33m.\u001b[0m\u001b[0mjoin\u001b[0m\u001b[1;33m(\u001b[0m\u001b[0mother\u001b[0m\u001b[1;33m,\u001b[0m \u001b[0mon\u001b[0m\u001b[1;33m=\u001b[0m\u001b[1;32mNone\u001b[0m\u001b[1;33m,\u001b[0m \u001b[0mhow\u001b[0m\u001b[1;33m=\u001b[0m\u001b[1;32mNone\u001b[0m\u001b[1;33m)\u001b[0m\u001b[1;33m\u001b[0m\u001b[1;33m\u001b[0m\u001b[0m\n\u001b[1;31mDocstring:\u001b[0m\nJoins with another :class:`DataFrame`, using the given join expression.\n\n:param other: Right side of the join\n:param on: a string for the join column name, a list of column names,\n    a join expression (Column), or a list of Columns.\n    If `on` is a string or a list of strings indicating the name of the join column(s),\n    the column(s) must exist on both sides, and this performs an equi-join.\n:param how: str, default ``inner``. Must be one of: ``inner``, ``cross``, ``outer``,\n    ``full``, ``fullouter``, ``full_outer``, ``left``, ``leftouter``, ``left_outer``,\n    ``right``, ``rightouter``, ``right_outer``, ``semi``, ``leftsemi``, ``left_semi``,\n    ``anti``, ``leftanti`` and ``left_anti``.\n\nThe following performs a full outer join between ``df1`` and ``df2``.\n>>> from pyspark.sql.functions import desc\n>>> df.join(df2, df.name == df2.name, 'outer').select(df.name, df2.height)                 .sort(desc(\"name\")).collect()\n[Row(name='Bob', height=85), Row(name='Alice', height=None), Row(name=None, height=80)]\n\n>>> df.join(df2, 'name', 'outer').select('name', 'height').sort(desc(\"name\")).collect()\n[Row(name='Tom', height=80), Row(name='Bob', height=85), Row(name='Alice', height=None)]\n\n>>> cond = [df.name == df3.name, df.age == df3.age]\n>>> df.join(df3, cond, 'outer').select(df.name, df3.age).collect()\n[Row(name='Alice', age=2), Row(name='Bob', age=5)]\n\n>>> df.join(df2, 'name').select(df.name, df2.height).collect()\n[Row(name='Bob', height=85)]\n\n>>> df.join(df4, ['name', 'age']).select(df.name, df.age).collect()\n[Row(name='Bob', age=5)]\n\n.. versionadded:: 1.3\n\u001b[1;31mFile:\u001b[0m      d:\\documents\\pyspark\\spark-3.0.0\\python\\pyspark\\sql\\dataframe.py\n\u001b[1;31mType:\u001b[0m      method\n"
    }
   ],
   "source": [
    "orders.join?"
   ]
  },
  {
   "cell_type": "code",
   "execution_count": 25,
   "metadata": {
    "tags": []
   },
   "outputs": [
    {
     "output_type": "stream",
     "name": "stdout",
     "text": "+--------+--------------------+-----------------+---------------+-------------+-------------------+---------------------+-------------------+-------------------+------------------------+\n|order_id|          order_date|order_customer_id|   order_status|order_item_id|order_item_order_id|order_item_product_id|order_item_quantity|order_item_subtotal|order_item_product_price|\n+--------+--------------------+-----------------+---------------+-------------+-------------------+---------------------+-------------------+-------------------+------------------------+\n|       1|2013-07-25 00:00:...|            11599|         CLOSED|            1|                  1|                  957|                  1|             299.98|                  299.98|\n|       2|2013-07-25 00:00:...|              256|PENDING_PAYMENT|            2|                  2|                 1073|                  1|             199.99|                  199.99|\n|       2|2013-07-25 00:00:...|              256|PENDING_PAYMENT|            3|                  2|                  502|                  5|              250.0|                    50.0|\n|       2|2013-07-25 00:00:...|              256|PENDING_PAYMENT|            4|                  2|                  403|                  1|             129.99|                  129.99|\n|       4|2013-07-25 00:00:...|             8827|         CLOSED|            5|                  4|                  897|                  2|              49.98|                   24.99|\n|       4|2013-07-25 00:00:...|             8827|         CLOSED|            6|                  4|                  365|                  5|             299.95|                   59.99|\n|       4|2013-07-25 00:00:...|             8827|         CLOSED|            7|                  4|                  502|                  3|              150.0|                    50.0|\n|       4|2013-07-25 00:00:...|             8827|         CLOSED|            8|                  4|                 1014|                  4|             199.92|                   49.98|\n|       5|2013-07-25 00:00:...|            11318|       COMPLETE|            9|                  5|                  957|                  1|             299.98|                  299.98|\n|       5|2013-07-25 00:00:...|            11318|       COMPLETE|           10|                  5|                  365|                  5|             299.95|                   59.99|\n|       5|2013-07-25 00:00:...|            11318|       COMPLETE|           11|                  5|                 1014|                  2|              99.96|                   49.98|\n|       5|2013-07-25 00:00:...|            11318|       COMPLETE|           12|                  5|                  957|                  1|             299.98|                  299.98|\n|       5|2013-07-25 00:00:...|            11318|       COMPLETE|           13|                  5|                  403|                  1|             129.99|                  129.99|\n|       7|2013-07-25 00:00:...|             4530|       COMPLETE|           14|                  7|                 1073|                  1|             199.99|                  199.99|\n|       7|2013-07-25 00:00:...|             4530|       COMPLETE|           15|                  7|                  957|                  1|             299.98|                  299.98|\n|       7|2013-07-25 00:00:...|             4530|       COMPLETE|           16|                  7|                  926|                  5|              79.95|                   15.99|\n|       8|2013-07-25 00:00:...|             2911|     PROCESSING|           17|                  8|                  365|                  3|             179.97|                   59.99|\n|       8|2013-07-25 00:00:...|             2911|     PROCESSING|           18|                  8|                  365|                  5|             299.95|                   59.99|\n|       8|2013-07-25 00:00:...|             2911|     PROCESSING|           19|                  8|                 1014|                  4|             199.92|                   49.98|\n|       8|2013-07-25 00:00:...|             2911|     PROCESSING|           20|                  8|                  502|                  1|               50.0|                    50.0|\n+--------+--------------------+-----------------+---------------+-------------+-------------------+---------------------+-------------------+-------------------+------------------------+\nonly showing top 20 rows\n\n"
    }
   ],
   "source": [
    "orders.join(order_items, orders.order_id==order_items.order_item_order_id).show()"
   ]
  },
  {
   "cell_type": "markdown",
   "metadata": {},
   "source": [
    "To perform join but get results from only the left dataframe."
   ]
  },
  {
   "cell_type": "code",
   "execution_count": 29,
   "metadata": {
    "tags": []
   },
   "outputs": [
    {
     "output_type": "stream",
     "name": "stdout",
     "text": "+--------+--------------------+-----------------+---------------+\n|order_id|          order_date|order_customer_id|   order_status|\n+--------+--------------------+-----------------+---------------+\n|       1|2013-07-25 00:00:...|            11599|         CLOSED|\n|       2|2013-07-25 00:00:...|              256|PENDING_PAYMENT|\n|       3|2013-07-25 00:00:...|            12111|       COMPLETE|\n|       4|2013-07-25 00:00:...|             8827|         CLOSED|\n|       5|2013-07-25 00:00:...|            11318|       COMPLETE|\n|       6|2013-07-25 00:00:...|             7130|       COMPLETE|\n|       7|2013-07-25 00:00:...|             4530|       COMPLETE|\n|       8|2013-07-25 00:00:...|             2911|     PROCESSING|\n|       9|2013-07-25 00:00:...|             5657|PENDING_PAYMENT|\n|      10|2013-07-25 00:00:...|             5648|PENDING_PAYMENT|\n|      11|2013-07-25 00:00:...|              918| PAYMENT_REVIEW|\n|      12|2013-07-25 00:00:...|             1837|         CLOSED|\n|      13|2013-07-25 00:00:...|             9149|PENDING_PAYMENT|\n|      14|2013-07-25 00:00:...|             9842|     PROCESSING|\n|      15|2013-07-25 00:00:...|             2568|       COMPLETE|\n|      16|2013-07-25 00:00:...|             7276|PENDING_PAYMENT|\n|      17|2013-07-25 00:00:...|             2667|       COMPLETE|\n|      18|2013-07-25 00:00:...|             1205|         CLOSED|\n|      19|2013-07-25 00:00:...|             9488|PENDING_PAYMENT|\n|      20|2013-07-25 00:00:...|             9198|     PROCESSING|\n+--------+--------------------+-----------------+---------------+\nonly showing top 20 rows\n\n"
    }
   ],
   "source": [
    "orders.join(orders, ['order_id'],how='left_semi').show()"
   ]
  },
  {
   "cell_type": "markdown",
   "metadata": {},
   "source": [
    "#### inner join with multiple columns"
   ]
  },
  {
   "cell_type": "code",
   "execution_count": 18,
   "metadata": {
    "tags": []
   },
   "outputs": [
    {
     "output_type": "stream",
     "name": "stdout",
     "text": "+--------+--------------------+-----------------+---------------+-------------+-------------------+---------------------+-------------------+-------------------+------------------------+\n|order_id|          order_date|order_customer_id|   order_status|order_item_id|order_item_order_id|order_item_product_id|order_item_quantity|order_item_subtotal|order_item_product_price|\n+--------+--------------------+-----------------+---------------+-------------+-------------------+---------------------+-------------------+-------------------+------------------------+\n|       1|2013-07-25 00:00:...|            11599|         CLOSED|            1|                  1|                  957|                  1|             299.98|                  299.98|\n|       2|2013-07-25 00:00:...|              256|PENDING_PAYMENT|            2|                  2|                 1073|                  1|             199.99|                  199.99|\n|       2|2013-07-25 00:00:...|              256|PENDING_PAYMENT|            3|                  2|                  502|                  5|              250.0|                    50.0|\n|       2|2013-07-25 00:00:...|              256|PENDING_PAYMENT|            4|                  2|                  403|                  1|             129.99|                  129.99|\n|       4|2013-07-25 00:00:...|             8827|         CLOSED|            5|                  4|                  897|                  2|              49.98|                   24.99|\n|       4|2013-07-25 00:00:...|             8827|         CLOSED|            6|                  4|                  365|                  5|             299.95|                   59.99|\n|       4|2013-07-25 00:00:...|             8827|         CLOSED|            7|                  4|                  502|                  3|              150.0|                    50.0|\n|       4|2013-07-25 00:00:...|             8827|         CLOSED|            8|                  4|                 1014|                  4|             199.92|                   49.98|\n|       5|2013-07-25 00:00:...|            11318|       COMPLETE|            9|                  5|                  957|                  1|             299.98|                  299.98|\n|       5|2013-07-25 00:00:...|            11318|       COMPLETE|           10|                  5|                  365|                  5|             299.95|                   59.99|\n|       5|2013-07-25 00:00:...|            11318|       COMPLETE|           11|                  5|                 1014|                  2|              99.96|                   49.98|\n|       5|2013-07-25 00:00:...|            11318|       COMPLETE|           12|                  5|                  957|                  1|             299.98|                  299.98|\n|       5|2013-07-25 00:00:...|            11318|       COMPLETE|           13|                  5|                  403|                  1|             129.99|                  129.99|\n|       7|2013-07-25 00:00:...|             4530|       COMPLETE|           14|                  7|                 1073|                  1|             199.99|                  199.99|\n|       7|2013-07-25 00:00:...|             4530|       COMPLETE|           15|                  7|                  957|                  1|             299.98|                  299.98|\n|       7|2013-07-25 00:00:...|             4530|       COMPLETE|           16|                  7|                  926|                  5|              79.95|                   15.99|\n|       8|2013-07-25 00:00:...|             2911|     PROCESSING|           17|                  8|                  365|                  3|             179.97|                   59.99|\n|       8|2013-07-25 00:00:...|             2911|     PROCESSING|           18|                  8|                  365|                  5|             299.95|                   59.99|\n|       8|2013-07-25 00:00:...|             2911|     PROCESSING|           19|                  8|                 1014|                  4|             199.92|                   49.98|\n|       8|2013-07-25 00:00:...|             2911|     PROCESSING|           20|                  8|                  502|                  1|               50.0|                    50.0|\n+--------+--------------------+-----------------+---------------+-------------+-------------------+---------------------+-------------------+-------------------+------------------------+\nonly showing top 20 rows\n\n"
    }
   ],
   "source": [
    "orders.join(order_items, [orders.order_id==order_items.order_item_order_id, orders.order_id==order_items.order_item_order_id]).show()"
   ]
  },
  {
   "cell_type": "code",
   "execution_count": null,
   "metadata": {},
   "outputs": [],
   "source": [
    "#### left join"
   ]
  },
  {
   "cell_type": "code",
   "execution_count": 19,
   "metadata": {
    "tags": []
   },
   "outputs": [
    {
     "output_type": "stream",
     "name": "stdout",
     "text": "+-----------+--------------+--------------+--------------+-----------------+--------------------+-------------+--------------+----------------+--------+--------------------+-----------------+---------------+\n|customer_id|customer_fname|customer_lname|customer_email|customer_password|     customer_street|customer_city|customer_state|customer_zipcode|order_id|          order_date|order_customer_id|   order_status|\n+-----------+--------------+--------------+--------------+-----------------+--------------------+-------------+--------------+----------------+--------+--------------------+-----------------+---------------+\n|          1|       Richard|     Hernandez|     XXXXXXXXX|        XXXXXXXXX|  6303 Heather Plaza|  Brownsville|            TX|           78521|   22945|2013-12-13 00:00:...|                1|       COMPLETE|\n|          2|          Mary|       Barrett|     XXXXXXXXX|        XXXXXXXXX|9526 Noble Embers...|    Littleton|            CO|           80126|   67863|2013-11-30 00:00:...|                2|       COMPLETE|\n|          2|          Mary|       Barrett|     XXXXXXXXX|        XXXXXXXXX|9526 Noble Embers...|    Littleton|            CO|           80126|   57963|2013-08-02 00:00:...|                2|        ON_HOLD|\n|          2|          Mary|       Barrett|     XXXXXXXXX|        XXXXXXXXX|9526 Noble Embers...|    Littleton|            CO|           80126|   33865|2014-02-18 00:00:...|                2|       COMPLETE|\n|          2|          Mary|       Barrett|     XXXXXXXXX|        XXXXXXXXX|9526 Noble Embers...|    Littleton|            CO|           80126|   15192|2013-10-29 00:00:...|                2|PENDING_PAYMENT|\n|          3|           Ann|         Smith|     XXXXXXXXX|        XXXXXXXXX|3422 Blue Pioneer...|       Caguas|            PR|             725|   61453|2013-12-14 00:00:...|                3|       COMPLETE|\n|          3|           Ann|         Smith|     XXXXXXXXX|        XXXXXXXXX|3422 Blue Pioneer...|       Caguas|            PR|             725|   57617|2014-07-24 00:00:...|                3|       COMPLETE|\n|          3|           Ann|         Smith|     XXXXXXXXX|        XXXXXXXXX|3422 Blue Pioneer...|       Caguas|            PR|             725|   56178|2014-07-15 00:00:...|                3|        PENDING|\n|          3|           Ann|         Smith|     XXXXXXXXX|        XXXXXXXXX|3422 Blue Pioneer...|       Caguas|            PR|             725|   46399|2014-05-09 00:00:...|                3|     PROCESSING|\n|          3|           Ann|         Smith|     XXXXXXXXX|        XXXXXXXXX|3422 Blue Pioneer...|       Caguas|            PR|             725|   35158|2014-02-26 00:00:...|                3|       COMPLETE|\n|          3|           Ann|         Smith|     XXXXXXXXX|        XXXXXXXXX|3422 Blue Pioneer...|       Caguas|            PR|             725|   23662|2013-12-19 00:00:...|                3|       COMPLETE|\n|          3|           Ann|         Smith|     XXXXXXXXX|        XXXXXXXXX|3422 Blue Pioneer...|       Caguas|            PR|             725|   22646|2013-12-11 00:00:...|                3|       COMPLETE|\n|          4|          Mary|         Jones|     XXXXXXXXX|        XXXXXXXXX|  8324 Little Common|   San Marcos|            CA|           92069|   51157|2014-06-10 00:00:...|                4|         CLOSED|\n|          4|          Mary|         Jones|     XXXXXXXXX|        XXXXXXXXX|  8324 Little Common|   San Marcos|            CA|           92069|   49339|2014-05-28 00:00:...|                4|       COMPLETE|\n|          4|          Mary|         Jones|     XXXXXXXXX|        XXXXXXXXX|  8324 Little Common|   San Marcos|            CA|           92069|   37878|2014-03-15 00:00:...|                4|       COMPLETE|\n|          4|          Mary|         Jones|     XXXXXXXXX|        XXXXXXXXX|  8324 Little Common|   San Marcos|            CA|           92069|   17253|2013-11-09 00:00:...|                4|PENDING_PAYMENT|\n|          4|          Mary|         Jones|     XXXXXXXXX|        XXXXXXXXX|  8324 Little Common|   San Marcos|            CA|           92069|    9704|2013-09-24 00:00:...|                4|       COMPLETE|\n|          4|          Mary|         Jones|     XXXXXXXXX|        XXXXXXXXX|  8324 Little Common|   San Marcos|            CA|           92069|    9023|2013-09-19 00:00:...|                4|       COMPLETE|\n|          5|        Robert|        Hudson|     XXXXXXXXX|        XXXXXXXXX|10 Crystal River ...|       Caguas|            PR|             725|   45832|2014-05-05 00:00:...|                5|PENDING_PAYMENT|\n|          5|        Robert|        Hudson|     XXXXXXXXX|        XXXXXXXXX|10 Crystal River ...|       Caguas|            PR|             725|   41333|2014-04-05 00:00:...|                5|       COMPLETE|\n+-----------+--------------+--------------+--------------+-----------------+--------------------+-------------+--------------+----------------+--------+--------------------+-----------------+---------------+\nonly showing top 20 rows\n\n"
    }
   ],
   "source": [
    "customers.join(orders, customers.customer_id==orders.order_customer_id, 'left').show()"
   ]
  },
  {
   "cell_type": "markdown",
   "metadata": {},
   "source": [
    "#### right join"
   ]
  },
  {
   "cell_type": "code",
   "execution_count": 20,
   "metadata": {
    "tags": []
   },
   "outputs": [
    {
     "output_type": "stream",
     "name": "stdout",
     "text": "+-----------+--------------+--------------+--------------+-----------------+--------------------+-------------+--------------+----------------+--------+--------------------+-----------------+---------------+\n|customer_id|customer_fname|customer_lname|customer_email|customer_password|     customer_street|customer_city|customer_state|customer_zipcode|order_id|          order_date|order_customer_id|   order_status|\n+-----------+--------------+--------------+--------------+-----------------+--------------------+-------------+--------------+----------------+--------+--------------------+-----------------+---------------+\n|      11599|          Mary|        Malone|     XXXXXXXXX|        XXXXXXXXX|8708 Indian Horse...|      Hickory|            NC|           28601|       1|2013-07-25 00:00:...|            11599|         CLOSED|\n|        256|         David|     Rodriguez|     XXXXXXXXX|        XXXXXXXXX|7605 Tawny Horse ...|      Chicago|            IL|           60625|       2|2013-07-25 00:00:...|              256|PENDING_PAYMENT|\n|      12111|         Amber|        Franco|     XXXXXXXXX|        XXXXXXXXX|8766 Clear Prairi...|   Santa Cruz|            CA|           95060|       3|2013-07-25 00:00:...|            12111|       COMPLETE|\n|       8827|         Brian|        Wilson|     XXXXXXXXX|        XXXXXXXXX|   8396 High Corners|  San Antonio|            TX|           78240|       4|2013-07-25 00:00:...|             8827|         CLOSED|\n|      11318|          Mary|         Henry|     XXXXXXXXX|        XXXXXXXXX|3047 Silent Ember...|       Caguas|            PR|             725|       5|2013-07-25 00:00:...|            11318|       COMPLETE|\n|       7130|         Alice|         Smith|     XXXXXXXXX|        XXXXXXXXX|      8852 Iron Port|     Brooklyn|            NY|           11237|       6|2013-07-25 00:00:...|             7130|       COMPLETE|\n|       4530|          Mary|         Smith|     XXXXXXXXX|        XXXXXXXXX|1073 Green Leaf G...|        Miami|            FL|           33161|       7|2013-07-25 00:00:...|             4530|       COMPLETE|\n|       2911|          Mary|         Smith|     XXXXXXXXX|        XXXXXXXXX|9166 Golden Necta...|       Caguas|            PR|             725|       8|2013-07-25 00:00:...|             2911|     PROCESSING|\n|       5657|          Mary|         James|     XXXXXXXXX|        XXXXXXXXX|  1389 Dusty Circuit|     Lakewood|            OH|           44107|       9|2013-07-25 00:00:...|             5657|PENDING_PAYMENT|\n|       5648|        Joshua|         Smith|     XXXXXXXXX|        XXXXXXXXX|864 Iron Spring S...|      Memphis|            TN|           38111|      10|2013-07-25 00:00:...|             5648|PENDING_PAYMENT|\n|        918|        Nathan|         Smith|     XXXXXXXXX|        XXXXXXXXX|    9627 Honey Trail|       Caguas|            PR|             725|      11|2013-07-25 00:00:...|              918| PAYMENT_REVIEW|\n|       1837|          Mary|          Vega|     XXXXXXXXX|        XXXXXXXXX|  4312 Bright Corner|       Caguas|            PR|             725|      12|2013-07-25 00:00:...|             1837|         CLOSED|\n|       9149|        Ronald|     Whitehead|     XXXXXXXXX|        XXXXXXXXX|6789 Round Robin ...|    Santa Ana|            CA|           92705|      13|2013-07-25 00:00:...|             9149|PENDING_PAYMENT|\n|       9842|          Mary|         Smith|     XXXXXXXXX|        XXXXXXXXX|454 Lazy Branch F...|       Caguas|            PR|             725|      14|2013-07-25 00:00:...|             9842|     PROCESSING|\n|       2568|         Maria|         Smith|     XXXXXXXXX|        XXXXXXXXX|   3544 Fallen Mount|      Memphis|            TN|           38127|      15|2013-07-25 00:00:...|             2568|       COMPLETE|\n|       7276|        Pamela|         Smith|     XXXXXXXXX|        XXXXXXXXX|    9243 Old Gardens|       Caguas|            PR|             725|      16|2013-07-25 00:00:...|             7276|PENDING_PAYMENT|\n|       2667|         Tammy|         Smith|     XXXXXXXXX|        XXXXXXXXX|    8906 Rustic Mall|   Sun Valley|            CA|           91352|      17|2013-07-25 00:00:...|             2667|       COMPLETE|\n|       1205|          Mary|        Powell|     XXXXXXXXX|        XXXXXXXXX|9299 Quiet Pionee...|        Miami|            FL|           33126|      18|2013-07-25 00:00:...|             1205|         CLOSED|\n|       9488|          Mary|         Smith|     XXXXXXXXX|        XXXXXXXXX|    9758 Foggy Range|      Hialeah|            FL|           33012|      19|2013-07-25 00:00:...|             9488|PENDING_PAYMENT|\n|       9198|         David|          Kerr|     XXXXXXXXX|        XXXXXXXXX|7312 Crystal Will...|Bowling Green|            KY|           42101|      20|2013-07-25 00:00:...|             9198|     PROCESSING|\n+-----------+--------------+--------------+--------------+-----------------+--------------------+-------------+--------------+----------------+--------+--------------------+-----------------+---------------+\nonly showing top 20 rows\n\n"
    }
   ],
   "source": [
    "customers.join(orders, customers.customer_id==orders.order_customer_id, 'right').show()"
   ]
  },
  {
   "cell_type": "markdown",
   "metadata": {},
   "source": [
    "#### leftanti join - Join to fetch records which exists only in one table\n",
    "In the below case it will fetch the records which are present only in the orders and not in order_items"
   ]
  },
  {
   "cell_type": "code",
   "execution_count": 22,
   "metadata": {
    "tags": []
   },
   "outputs": [
    {
     "output_type": "stream",
     "name": "stdout",
     "text": "+-----------+--------------+--------------+--------------+-----------------+--------------------+-------------------+--------------+----------------+\n|customer_id|customer_fname|customer_lname|customer_email|customer_password|     customer_street|      customer_city|customer_state|customer_zipcode|\n+-----------+--------------+--------------+--------------+-----------------+--------------------+-------------------+--------------+----------------+\n|        219|          Mary|       Harrell|     XXXXXXXXX|        XXXXXXXXX|9016 Foggy Robin ...|             Denver|            CO|           80219|\n|        339|          Mary|        Greene|     XXXXXXXXX|        XXXXXXXXX|     4271 Hazy Close|         Long Beach|            CA|           90805|\n|        469|         Randy|         Smith|     XXXXXXXXX|        XXXXXXXXX|252 Golden Goose ...|South San Francisco|            CA|           94080|\n|       1187|       Dorothy|       Vazquez|     XXXXXXXXX|        XXXXXXXXX| 363 Green Goose Run|            Danbury|            CT|            6810|\n|       1481|         Grace|         Smith|     XXXXXXXXX|        XXXXXXXXX|2171 Clear Lake Isle|             Caguas|            PR|             725|\n|       1808|        Albert|       Ellison|     XXXXXXXXX|        XXXXXXXXX|   9795 Heather Wynd|           Billings|            MT|           59102|\n|       2073|         Donna|      Stephens|     XXXXXXXXX|        XXXXXXXXX|   9792 Cozy Corners|          Sunnyvale|            CA|           94087|\n|       2096|          Jose|        Tanner|     XXXXXXXXX|        XXXXXXXXX|8976 Old Hickory ...|              Bronx|            NY|           10467|\n|       2450|         James|         Smith|     XXXXXXXXX|        XXXXXXXXX|4063 Little Creek...|             Newark|            DE|           19702|\n|       4555|          Mary|         Smith|     XXXXXXXXX|        XXXXXXXXX|5455 Red Lagoon Maze|             Caguas|            PR|             725|\n|       4927|       Carolyn|         Green|     XXXXXXXXX|        XXXXXXXXX|7550 Sleepy View ...|             Caguas|            PR|             725|\n|       6072|       Stephen|         Smith|     XXXXXXXXX|        XXXXXXXXX|849 Noble Apple P...|             Malden|            MA|            2148|\n|       6613|        Ashley|         Smith|     XXXXXXXXX|        XXXXXXXXX|9847 Dusty Horse ...|             Caguas|            PR|             725|\n|       7011|         Kevin|         Smith|     XXXXXXXXX|        XXXXXXXXX|1915 Thunder Hick...|          Wyandotte|            MI|           48192|\n|       7552|          Carl|         Smith|     XXXXXXXXX|        XXXXXXXXX|    9966 Cinder Loop|             Howell|            MI|           48843|\n|       8243|          Gary|        Walker|     XXXXXXXXX|        XXXXXXXXX|2447 Stony Barn S...|           New York|            NY|           10128|\n|       8343|          Mary|        Bolton|     XXXXXXXXX|        XXXXXXXXX|   7302 Sunny Valley|             Caguas|            PR|             725|\n|       8575|          Mary|       Mueller|     XXXXXXXXX|        XXXXXXXXX|9714 Emerald Bear...|             Caguas|            PR|             725|\n|       8778|          Mary|         Smith|     XXXXXXXXX|        XXXXXXXXX|4015 Tawny Rise C...|             Caguas|            PR|             725|\n|       8882|       Kenneth|         Smith|     XXXXXXXXX|        XXXXXXXXX| 6754 Iron Leaf Line|            Hickory|            NC|           28601|\n+-----------+--------------+--------------+--------------+-----------------+--------------------+-------------------+--------------+----------------+\nonly showing top 20 rows\n\n"
    }
   ],
   "source": [
    "customers.join(orders, orders.order_customer_id==customers.customer_id, 'leftanti').show()"
   ]
  },
  {
   "cell_type": "markdown",
   "metadata": {},
   "source": [
    "#### crossJoin"
   ]
  },
  {
   "cell_type": "code",
   "execution_count": null,
   "metadata": {},
   "outputs": [],
   "source": [
    "orders.crossJoin(customers.filter(customers.customer_id == 1)).show()"
   ]
  },
  {
   "cell_type": "markdown",
   "metadata": {},
   "source": [
    "# distinct\n",
    "#### distinct will come at the end after the select"
   ]
  },
  {
   "cell_type": "code",
   "execution_count": null,
   "metadata": {},
   "outputs": [],
   "source": [
    "orders.select('order_status').distinct().show()"
   ]
  },
  {
   "cell_type": "markdown",
   "metadata": {},
   "source": [
    "# countDinstinct\n",
    "#### countDistinct will be handy "
   ]
  },
  {
   "cell_type": "code",
   "execution_count": null,
   "metadata": {},
   "outputs": [],
   "source": [
    "orders.select(countDistinct('order_status')).show()"
   ]
  },
  {
   "cell_type": "markdown",
   "metadata": {},
   "source": [
    "# orderBy/sort\n",
    "#### Note: sort is just an alias to orderBy"
   ]
  },
  {
   "cell_type": "code",
   "execution_count": null,
   "metadata": {},
   "outputs": [],
   "source": [
    "orders.orderBy(orders.order_date, orders.order_status.desc()).show()"
   ]
  },
  {
   "cell_type": "markdown",
   "metadata": {},
   "source": [
    "Note: Only absolute column name notation or col() works while mentioning in descending order desc()"
   ]
  },
  {
   "cell_type": "code",
   "execution_count": null,
   "metadata": {},
   "outputs": [],
   "source": [
    "orders.orderBy('order_date',col('order_status').desc()).show()"
   ]
  },
  {
   "cell_type": "markdown",
   "metadata": {},
   "source": [
    "# drop"
   ]
  },
  {
   "cell_type": "markdown",
   "metadata": {},
   "source": [
    "drop() will only take just the column names and it will not take any other expressions for the column"
   ]
  },
  {
   "cell_type": "code",
   "execution_count": null,
   "metadata": {},
   "outputs": [],
   "source": [
    "order_items.join(products,order_items.order_item_product_id==products.product_id).drop('product_price','product_description','product_image').show()"
   ]
  },
  {
   "cell_type": "code",
   "execution_count": null,
   "metadata": {},
   "outputs": [],
   "source": [
    "#order_items.join(products, order_item_product_id==products.product_id).drop(products.product_price, products.product_description, products.product_image).show()\n",
    "# Specifying full name of the column will not work "
   ]
  }
 ],
 "metadata": {
  "kernelspec": {
   "display_name": "Python 3",
   "language": "python",
   "name": "python3"
  },
  "language_info": {
   "codemirror_mode": {
    "name": "ipython",
    "version": 3
   },
   "file_extension": ".py",
   "mimetype": "text/x-python",
   "name": "python",
   "nbconvert_exporter": "python",
   "pygments_lexer": "ipython3",
   "version": "3.6.10-final"
  }
 },
 "nbformat": 4,
 "nbformat_minor": 4
}